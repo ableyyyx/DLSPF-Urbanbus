{
 "cells": [
  {
   "cell_type": "code",
   "execution_count": null,
   "metadata": {},
   "outputs": [],
   "source": [
    "import pickle\n",
    "\n",
    "import os\n",
    "import pandas as pd\n",
    "import matplotlib.pyplot as plt\n",
    "import matplotlib.ticker as ticker\n",
    "import re\n",
    "\n",
    "# 打开 pickle 文件进行读取\n",
    "\n",
    "with open('./data_del_some0_np.pickle', 'rb') as file:\n",
    "    # 使用 pickle.load() 读取对象\n",
    "    server_np_inflow = pickle.load(file)\n",
    "\n",
    "with open('./data_np_server_outflow.pickle', 'rb') as file:\n",
    "    # 使用 pickle.load() 读取对象\n",
    "    server_np_outflow = pickle.load(file)"
   ]
  },
  {
   "cell_type": "code",
   "execution_count": null,
   "metadata": {},
   "outputs": [
    {
     "data": {
      "text/plain": [
       "array([  2,   6,  38,  43,  24, 102,  84,  86, 128,  75,  97,  53,  76,\n",
       "        60,  27,  33,  44,  26,  27,  23,  24,  10,  25,  57,  24,  28,\n",
       "        32,  32,  16,  50,  37,  40,  45,  28,  51,  62,  41,  47,  40,\n",
       "        45,  30,  36,  34,  32,  46,  82,  30,  52,  42,  78,  70,  96,\n",
       "        75,  73,  85,  78,  71,  48,  52,  48,  58,  46,  42,  60,  17,\n",
       "        42,  40,  19,  28,  33,  17,  18])"
      ]
     },
     "execution_count": 22,
     "metadata": {},
     "output_type": "execute_result"
    }
   ],
   "source": [
    "server_np_outflow"
   ]
  },
  {
   "cell_type": "code",
   "execution_count": 2,
   "metadata": {},
   "outputs": [
    {
     "data": {
      "text/plain": [
       "(59, 308, 72, 1)"
      ]
     },
     "execution_count": 2,
     "metadata": {},
     "output_type": "execute_result"
    }
   ],
   "source": [
    "server_np_outflow.shape"
   ]
  },
  {
   "cell_type": "code",
   "execution_count": null,
   "metadata": {},
   "outputs": [
    {
     "data": {
      "text/plain": [
       "(59, 72, 308, 1)"
      ]
     },
     "execution_count": 3,
     "metadata": {},
     "output_type": "execute_result"
    }
   ],
   "source": [
    "temp_data = server_np_outflow.transpose(0, 2, 1, 3)\n",
    "temp_data.shape"
   ]
  },
  {
   "cell_type": "code",
   "execution_count": null,
   "metadata": {},
   "outputs": [],
   "source": [
    "b = temp_data.reshape(-1, 308, 1)"
   ]
  },
  {
   "cell_type": "code",
   "execution_count": 6,
   "metadata": {},
   "outputs": [
    {
     "data": {
      "text/plain": [
       "(4248, 308, 1)"
      ]
     },
     "execution_count": 6,
     "metadata": {},
     "output_type": "execute_result"
    }
   ],
   "source": [
    "b.shape"
   ]
  },
  {
   "cell_type": "code",
   "execution_count": 7,
   "metadata": {},
   "outputs": [],
   "source": [
    "data_io = b"
   ]
  },
  {
   "cell_type": "code",
   "execution_count": null,
   "metadata": {},
   "outputs": [],
   "source": [
    "data_server_i = [list(data_io[:, i, 0]) for i in range(len(data_io[0, :, 0]))]"
   ]
  },
  {
   "cell_type": "code",
   "execution_count": null,
   "metadata": {},
   "outputs": [],
   "source": [
    "data_stn_i_merage = [i for item in data_server_i for i in item]"
   ]
  },
  {
   "cell_type": "code",
   "execution_count": null,
   "metadata": {},
   "outputs": [],
   "source": [
    "import pandas as pd\n",
    "\n",
    "data_in_out = pd.read_csv('./urban_bus_del_some0_data.csv', index_col='dyna_id')"
   ]
  },
  {
   "cell_type": "code",
   "execution_count": 18,
   "metadata": {},
   "outputs": [],
   "source": [
    "data_in_out['outflow'] = data_stn_i_merage"
   ]
  },
  {
   "cell_type": "code",
   "execution_count": null,
   "metadata": {},
   "outputs": [],
   "source": [
    "data_in_out.to_csv('URBAN_BUS_ROUTE.dyna', index=False)"
   ]
  },
  {
   "cell_type": "code",
   "execution_count": null,
   "metadata": {},
   "outputs": [
    {
     "data": {
      "text/plain": [
       "array([  2,   6,  38,  43,  24, 102,  84,  86, 128,  75,  97,  53,  76,\n",
       "        60,  27,  33,  44,  26,  27,  23,  24,  10,  25,  57,  24,  28,\n",
       "        32,  32,  16,  50,  37,  40,  45,  28,  51,  62,  41,  47,  40,\n",
       "        45,  30,  36,  34,  32,  46,  82,  30,  52,  42,  78,  70,  96,\n",
       "        75,  73,  85,  78,  71,  48,  52,  48,  58,  46,  42,  60,  17,\n",
       "        42,  40,  19,  28,  33,  17,  18])"
      ]
     },
     "execution_count": 23,
     "metadata": {},
     "output_type": "execute_result"
    }
   ],
   "source": [
    "server_np_outflow[58, 307, :, 0]"
   ]
  }
 ],
 "metadata": {
  "kernelspec": {
   "display_name": "guo_env",
   "language": "python",
   "name": "python3"
  },
  "language_info": {
   "codemirror_mode": {
    "name": "ipython",
    "version": 3
   },
   "file_extension": ".py",
   "mimetype": "text/x-python",
   "name": "python",
   "nbconvert_exporter": "python",
   "pygments_lexer": "ipython3",
   "version": "3.8.18"
  }
 },
 "nbformat": 4,
 "nbformat_minor": 2
}
