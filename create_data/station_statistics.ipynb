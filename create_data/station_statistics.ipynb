{
 "cells": [
  {
   "cell_type": "code",
   "execution_count": 1,
   "metadata": {},
   "outputs": [],
   "source": [
    "import pandas as pd\n",
    "\n",
    "data = pd.read_csv('./URBAN_BUS.dyna')"
   ]
  },
  {
   "cell_type": "code",
   "execution_count": 2,
   "metadata": {},
   "outputs": [
    {
     "data": {
      "text/html": [
       "<div>\n",
       "<style scoped>\n",
       "    .dataframe tbody tr th:only-of-type {\n",
       "        vertical-align: middle;\n",
       "    }\n",
       "\n",
       "    .dataframe tbody tr th {\n",
       "        vertical-align: top;\n",
       "    }\n",
       "\n",
       "    .dataframe thead th {\n",
       "        text-align: right;\n",
       "    }\n",
       "</style>\n",
       "<table border=\"1\" class=\"dataframe\">\n",
       "  <thead>\n",
       "    <tr style=\"text-align: right;\">\n",
       "      <th></th>\n",
       "      <th>dyna_id</th>\n",
       "      <th>type</th>\n",
       "      <th>time</th>\n",
       "      <th>entity_id</th>\n",
       "      <th>inflow</th>\n",
       "      <th>outflow</th>\n",
       "    </tr>\n",
       "  </thead>\n",
       "  <tbody>\n",
       "    <tr>\n",
       "      <th>0</th>\n",
       "      <td>0</td>\n",
       "      <td>state</td>\n",
       "      <td>2017-01-01T05:30:00Z</td>\n",
       "      <td>0</td>\n",
       "      <td>4</td>\n",
       "      <td>0</td>\n",
       "    </tr>\n",
       "    <tr>\n",
       "      <th>1</th>\n",
       "      <td>1</td>\n",
       "      <td>state</td>\n",
       "      <td>2017-01-01T05:45:00Z</td>\n",
       "      <td>0</td>\n",
       "      <td>7</td>\n",
       "      <td>2</td>\n",
       "    </tr>\n",
       "    <tr>\n",
       "      <th>2</th>\n",
       "      <td>2</td>\n",
       "      <td>state</td>\n",
       "      <td>2017-01-01T06:00:00Z</td>\n",
       "      <td>0</td>\n",
       "      <td>11</td>\n",
       "      <td>0</td>\n",
       "    </tr>\n",
       "    <tr>\n",
       "      <th>3</th>\n",
       "      <td>3</td>\n",
       "      <td>state</td>\n",
       "      <td>2017-01-01T06:15:00Z</td>\n",
       "      <td>0</td>\n",
       "      <td>5</td>\n",
       "      <td>1</td>\n",
       "    </tr>\n",
       "    <tr>\n",
       "      <th>4</th>\n",
       "      <td>4</td>\n",
       "      <td>state</td>\n",
       "      <td>2017-01-01T06:30:00Z</td>\n",
       "      <td>0</td>\n",
       "      <td>1</td>\n",
       "      <td>0</td>\n",
       "    </tr>\n",
       "    <tr>\n",
       "      <th>...</th>\n",
       "      <td>...</td>\n",
       "      <td>...</td>\n",
       "      <td>...</td>\n",
       "      <td>...</td>\n",
       "      <td>...</td>\n",
       "      <td>...</td>\n",
       "    </tr>\n",
       "    <tr>\n",
       "      <th>18955102</th>\n",
       "      <td>18955102</td>\n",
       "      <td>state</td>\n",
       "      <td>2017-02-28T22:30:00Z</td>\n",
       "      <td>4400</td>\n",
       "      <td>2</td>\n",
       "      <td>2</td>\n",
       "    </tr>\n",
       "    <tr>\n",
       "      <th>18955103</th>\n",
       "      <td>18955103</td>\n",
       "      <td>state</td>\n",
       "      <td>2017-02-28T22:45:00Z</td>\n",
       "      <td>4400</td>\n",
       "      <td>0</td>\n",
       "      <td>2</td>\n",
       "    </tr>\n",
       "    <tr>\n",
       "      <th>18955104</th>\n",
       "      <td>18955104</td>\n",
       "      <td>state</td>\n",
       "      <td>2017-02-28T23:00:00Z</td>\n",
       "      <td>4400</td>\n",
       "      <td>2</td>\n",
       "      <td>1</td>\n",
       "    </tr>\n",
       "    <tr>\n",
       "      <th>18955105</th>\n",
       "      <td>18955105</td>\n",
       "      <td>state</td>\n",
       "      <td>2017-02-28T23:15:00Z</td>\n",
       "      <td>4400</td>\n",
       "      <td>5</td>\n",
       "      <td>1</td>\n",
       "    </tr>\n",
       "    <tr>\n",
       "      <th>18955106</th>\n",
       "      <td>18955106</td>\n",
       "      <td>state</td>\n",
       "      <td>2017-02-28T23:30:00Z</td>\n",
       "      <td>4400</td>\n",
       "      <td>0</td>\n",
       "      <td>0</td>\n",
       "    </tr>\n",
       "  </tbody>\n",
       "</table>\n",
       "<p>18955107 rows × 6 columns</p>\n",
       "</div>"
      ],
      "text/plain": [
       "           dyna_id   type                  time  entity_id  inflow  outflow\n",
       "0                0  state  2017-01-01T05:30:00Z          0       4        0\n",
       "1                1  state  2017-01-01T05:45:00Z          0       7        2\n",
       "2                2  state  2017-01-01T06:00:00Z          0      11        0\n",
       "3                3  state  2017-01-01T06:15:00Z          0       5        1\n",
       "4                4  state  2017-01-01T06:30:00Z          0       1        0\n",
       "...            ...    ...                   ...        ...     ...      ...\n",
       "18955102  18955102  state  2017-02-28T22:30:00Z       4400       2        2\n",
       "18955103  18955103  state  2017-02-28T22:45:00Z       4400       0        2\n",
       "18955104  18955104  state  2017-02-28T23:00:00Z       4400       2        1\n",
       "18955105  18955105  state  2017-02-28T23:15:00Z       4400       5        1\n",
       "18955106  18955106  state  2017-02-28T23:30:00Z       4400       0        0\n",
       "\n",
       "[18955107 rows x 6 columns]"
      ]
     },
     "execution_count": 2,
     "metadata": {},
     "output_type": "execute_result"
    }
   ],
   "source": [
    "data"
   ]
  },
  {
   "cell_type": "code",
   "execution_count": 3,
   "metadata": {},
   "outputs": [],
   "source": [
    "zero_ratio_inflow = (data['inflow'] == 0).sum() / len(data)"
   ]
  },
  {
   "cell_type": "code",
   "execution_count": 4,
   "metadata": {},
   "outputs": [
    {
     "data": {
      "text/plain": [
       "0.2859923713435118"
      ]
     },
     "execution_count": 4,
     "metadata": {},
     "output_type": "execute_result"
    }
   ],
   "source": [
    "zero_ratio_inflow"
   ]
  },
  {
   "cell_type": "code",
   "execution_count": 5,
   "metadata": {},
   "outputs": [],
   "source": [
    "zero_ratio_outflow = (data['outflow'] == 0).sum() / len(data)"
   ]
  },
  {
   "cell_type": "code",
   "execution_count": 6,
   "metadata": {},
   "outputs": [
    {
     "data": {
      "text/plain": [
       "0.26712415814904134"
      ]
     },
     "execution_count": 6,
     "metadata": {},
     "output_type": "execute_result"
    }
   ],
   "source": [
    "zero_ratio_outflow"
   ]
  }
 ],
 "metadata": {
  "kernelspec": {
   "display_name": "nc",
   "language": "python",
   "name": "python3"
  },
  "language_info": {
   "codemirror_mode": {
    "name": "ipython",
    "version": 3
   },
   "file_extension": ".py",
   "mimetype": "text/x-python",
   "name": "python",
   "nbconvert_exporter": "python",
   "pygments_lexer": "ipython3",
   "version": "3.9.21"
  }
 },
 "nbformat": 4,
 "nbformat_minor": 2
}
