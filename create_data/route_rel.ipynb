{
 "cells": [
  {
   "cell_type": "code",
   "execution_count": 13,
   "metadata": {},
   "outputs": [],
   "source": [
    "import pickle\n",
    "import pandas as pd\n",
    "import numpy as np\n",
    "from fastdtw import fastdtw"
   ]
  },
  {
   "cell_type": "code",
   "execution_count": 14,
   "metadata": {},
   "outputs": [],
   "source": [
    "\n",
    "with open('./data_del_some0_np.pickle', 'rb') as file:\n",
    "    data_inflow = pickle.load(file)"
   ]
  },
  {
   "cell_type": "code",
   "execution_count": 15,
   "metadata": {},
   "outputs": [
    {
     "data": {
      "text/plain": [
       "(4248, 308, 1)"
      ]
     },
     "execution_count": 15,
     "metadata": {},
     "output_type": "execute_result"
    }
   ],
   "source": [
    "data_inflow.shape"
   ]
  },
  {
   "cell_type": "code",
   "execution_count": 16,
   "metadata": {},
   "outputs": [
    {
     "data": {
      "text/plain": [
       "array([  0,   0,  20,  20,  36,  24,  55,  52,  53,  46,  43,  59,  70,\n",
       "        70,  66,  87,  74,  54,  68,  72,  61, 108,  79,  81,  95,  89,\n",
       "        87, 105,  85,  84,  67,  71,  89,  79,  79,  45,  56,  53,  70,\n",
       "        63,  59,  95,  63,  45,  57,  65,  99,  80,  67, 101,  37,  94,\n",
       "       122,  84,  61,  54,  67,  69,  66,  42,  62,  48,  52,  49,  57,\n",
       "        67,  48,  34,  52,  43,  33,  11,   0], dtype=int32)"
      ]
     },
     "execution_count": 16,
     "metadata": {},
     "output_type": "execute_result"
    }
   ],
   "source": [
    "data_inflow[:73, 0, 0]"
   ]
  },
  {
   "cell_type": "code",
   "execution_count": 17,
   "metadata": {},
   "outputs": [],
   "source": [
    "data = data_inflow[:2969, :, 0]"
   ]
  },
  {
   "cell_type": "code",
   "execution_count": 18,
   "metadata": {},
   "outputs": [],
   "source": [
    "data_t = data.T"
   ]
  },
  {
   "cell_type": "code",
   "execution_count": 19,
   "metadata": {},
   "outputs": [
    {
     "data": {
      "text/plain": [
       "(308, 2969)"
      ]
     },
     "execution_count": 19,
     "metadata": {},
     "output_type": "execute_result"
    }
   ],
   "source": [
    "data_t.shape"
   ]
  },
  {
   "cell_type": "code",
   "execution_count": 20,
   "metadata": {},
   "outputs": [],
   "source": [
    "\n",
    "\n",
    "def calculate_dtw_distance(seq_a, seq_b):\n",
    "    distance, path = fastdtw(seq_a, seq_b)\n",
    "    return distance"
   ]
  },
  {
   "cell_type": "markdown",
   "metadata": {},
   "source": []
  },
  {
   "cell_type": "code",
   "execution_count": 21,
   "metadata": {},
   "outputs": [
    {
     "name": "stderr",
     "output_type": "stream",
     "text": [
      "Processing: 100%|██████████| 308/308 [1:19:09<00:00, 15.42s/item]\n"
     ]
    }
   ],
   "source": [
    "from tqdm import tqdm\n",
    "\n",
    "dtw_distances = np.zeros((308, 308))\n",
    "for i in tqdm(range(308), desc=\"Processing\", unit=\"item\"):\n",
    "    for j in range(i+1, 308):\n",
    "        dtw_distances[i, j] = calculate_dtw_distance(data_t[i], data_t[j])\n",
    "        dtw_distances[j, i] = dtw_distances[i, j]"
   ]
  },
  {
   "cell_type": "code",
   "execution_count": 22,
   "metadata": {},
   "outputs": [
    {
     "data": {
      "text/plain": [
       "array([[     0., 188267., 119476., ..., 173782., 271687., 267951.],\n",
       "       [188267.,      0., 166538., ..., 100199., 107734., 107296.],\n",
       "       [119476., 166538.,      0., ..., 133017., 227464., 203037.],\n",
       "       ...,\n",
       "       [173782., 100199., 133017., ...,      0., 121611., 115904.],\n",
       "       [271687., 107734., 227464., ..., 121611.,      0.,  31753.],\n",
       "       [267951., 107296., 203037., ..., 115904.,  31753.,      0.]])"
      ]
     },
     "execution_count": 22,
     "metadata": {},
     "output_type": "execute_result"
    }
   ],
   "source": [
    "dtw_distances"
   ]
  },
  {
   "cell_type": "code",
   "execution_count": 23,
   "metadata": {},
   "outputs": [],
   "source": [
    "npy_file_path = 'urban_bus_io_dtw.npy'"
   ]
  },
  {
   "cell_type": "code",
   "execution_count": 24,
   "metadata": {},
   "outputs": [],
   "source": [
    "np.save(npy_file_path, dtw_distances)"
   ]
  },
  {
   "cell_type": "code",
   "execution_count": 25,
   "metadata": {},
   "outputs": [],
   "source": [
    "my_list = dtw_distances[0]"
   ]
  },
  {
   "cell_type": "code",
   "execution_count": 31,
   "metadata": {},
   "outputs": [],
   "source": [
    "data_dtw = np.load('./urban_bus_io_dtw.npy')"
   ]
  },
  {
   "cell_type": "code",
   "execution_count": 32,
   "metadata": {},
   "outputs": [
    {
     "data": {
      "text/plain": [
       "(308, 308)"
      ]
     },
     "execution_count": 32,
     "metadata": {},
     "output_type": "execute_result"
    }
   ],
   "source": [
    "data_dtw.shape"
   ]
  },
  {
   "cell_type": "code",
   "execution_count": 33,
   "metadata": {},
   "outputs": [],
   "source": [
    "data = data_dtw"
   ]
  },
  {
   "cell_type": "code",
   "execution_count": 34,
   "metadata": {},
   "outputs": [],
   "source": [
    "origin_id = [([i]*len(data[:, 0]))for i in range(len(data[:, 0]))]\n",
    "destination_id = [[j for j in range(0, len(data[:, 0]))]\n",
    "                  for i in range(len(data[:, 0]))]\n",
    "connection = [list(data[i, :])for i in range(len(data[:, 0]))]"
   ]
  },
  {
   "cell_type": "code",
   "execution_count": 35,
   "metadata": {},
   "outputs": [],
   "source": [
    "origin_id = [i for item in origin_id for i in item]\n",
    "destination_id = [i for item in destination_id for i in item]\n",
    "connection = [i for item in connection for i in item]"
   ]
  },
  {
   "cell_type": "code",
   "execution_count": 36,
   "metadata": {},
   "outputs": [],
   "source": [
    "rel_id = [i for i in range(len(origin_id))]\n",
    "type = ['geo']*len(origin_id)"
   ]
  },
  {
   "cell_type": "code",
   "execution_count": 37,
   "metadata": {},
   "outputs": [],
   "source": [
    "d = {'rel_id': rel_id, 'type': type, 'origin_id': origin_id,\n",
    "     'destination_id': destination_id, 'connection': connection}\n",
    "data = pd.DataFrame(data=d)"
   ]
  },
  {
   "cell_type": "code",
   "execution_count": 38,
   "metadata": {},
   "outputs": [],
   "source": [
    "data.to_csv('./URBAN_BUS_ROUTE.rel', index=False)"
   ]
  }
 ],
 "metadata": {
  "kernelspec": {
   "display_name": "nc",
   "language": "python",
   "name": "python3"
  },
  "language_info": {
   "codemirror_mode": {
    "name": "ipython",
    "version": 3
   },
   "file_extension": ".py",
   "mimetype": "text/x-python",
   "name": "python",
   "nbconvert_exporter": "python",
   "pygments_lexer": "ipython3",
   "version": "3.9.21"
  }
 },
 "nbformat": 4,
 "nbformat_minor": 2
}
